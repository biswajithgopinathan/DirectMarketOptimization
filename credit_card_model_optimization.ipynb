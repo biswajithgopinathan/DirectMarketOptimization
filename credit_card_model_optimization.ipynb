{
 "cells": [
  {
   "cell_type": "markdown",
   "metadata": {},
   "source": [
    "# Direct Market Optimization"
   ]
  },
  {
   "cell_type": "markdown",
   "metadata": {},
   "source": [
    "### Below represents source code for classifying customers having high propensity to buy Credit cards\n"
   ]
  },
  {
   "cell_type": "code",
   "execution_count": 559,
   "metadata": {},
   "outputs": [],
   "source": [
    "#############################################################################################\n",
    "# Problem Defenition - Classifying clients having high propensity to buy Credit Card \n",
    "# Importing the libraries\n",
    "import numpy as np\n",
    "import matplotlib.pyplot as plt\n",
    "import pandas as pd\n",
    "import xlrd"
   ]
  },
  {
   "cell_type": "code",
   "execution_count": 560,
   "metadata": {},
   "outputs": [
    {
     "name": "stdout",
     "output_type": "stream",
     "text": [
      "the number of worksheets are 5\n"
     ]
    }
   ],
   "source": [
    "#############################################################################################\n",
    "# Import excel file from location\n",
    "file_location = ('Task_Data_Scientist_Dataset.xlsx')\n",
    "workbook = xlrd.open_workbook(file_location)\n",
    "print(\"the number of worksheets are\",workbook.nsheets)"
   ]
  },
  {
   "cell_type": "code",
   "execution_count": 561,
   "metadata": {},
   "outputs": [],
   "source": [
    "#############################################################################################\n",
    "# Load sequentially the spread sheet into subsequent dataframe\n",
    "spread_sheet = pd.ExcelFile(file_location)\n",
    "socail_demographic = spread_sheet.parse('Soc_Dem')\n",
    "products_balance = spread_sheet.parse('Products_ActBalance')\n",
    "inflow_outflow = spread_sheet.parse('Inflow_Outflow')\n",
    "sales_revenue = spread_sheet.parse('Sales_Revenues')"
   ]
  },
  {
   "cell_type": "code",
   "execution_count": 562,
   "metadata": {},
   "outputs": [],
   "source": [
    "#############################################################################################\n",
    "# Merge the sheets to one major sheet in order to implement the learning model\n",
    "merge_first_second = pd.merge(socail_demographic, products_balance, how='left', left_on='Client', right_on='Client') \n",
    "merge_second_third = pd.merge(inflow_outflow, sales_revenue, how='left', left_on='Client', right_on='Client')\n",
    "result_merged = pd.merge(merge_first_second, merge_second_third, how='left', left_on='Client', right_on='Client')\n",
    "result_merged = result_merged.set_index('Client')\n",
    "\n",
    "na_entries = {'Count_MF': 79, 'Count_CL':5,\n",
    "          'Count_OVD':2,'Count_CC':2,\n",
    "          'ActBal_SA':0,'ActBal_MF':0,\n",
    "          'ActBal_OVD':0, 'Count_SA': 6,\n",
    "          'ActBal_CC':0,'ActBal_CL':0 }\n",
    "result_merged = result_merged.fillna(value=na_entries, inplace=False)\n",
    "result_merged =result_merged .dropna(axis=0, how='any')"
   ]
  },
  {
   "cell_type": "code",
   "execution_count": 563,
   "metadata": {},
   "outputs": [],
   "source": [
    "#############################################################################################\n",
    "# Implement LabelEncoder class to convert categorical variables to numerical\n",
    "from sklearn.preprocessing import LabelEncoder\n",
    "number=LabelEncoder()\n",
    "result_merged ['Sex'] = number.fit_transform(result_merged ['Sex'].astype('str'))\n",
    "prediction_features=result_merged.drop('Sale_CC', axis=1)\n",
    "    \n",
    "# Assign explanatroy and target variables\n",
    "# Input and output Features\n",
    "feature_cols = prediction_features\n",
    "target_cols = result_merged['Sale_CC']  # Sale_CC column is the target/label\n",
    "X = feature_cols  # feature values for all data points\n",
    "y= target_cols  # corresponding targets/labels"
   ]
  },
  {
   "cell_type": "code",
   "execution_count": 564,
   "metadata": {},
   "outputs": [],
   "source": [
    "#############################################################################################\n",
    "# Handling missing variables\n",
    "from sklearn.preprocessing import Imputer\n",
    "imputer = Imputer(missing_values = 'NaN' , strategy = 'mean', axis = 0)\n",
    "imputer = imputer.fit(X)\n",
    "X= imputer.transform(X)"
   ]
  },
  {
   "cell_type": "code",
   "execution_count": 565,
   "metadata": {},
   "outputs": [],
   "source": [
    "#############################################################################################\n",
    "# Cross validation on the given training data set\n",
    "from sklearn import cross_validation\n",
    "from sklearn.cross_validation import train_test_split\n",
    "X_train,X_test,y_train,y_test = cross_validation.train_test_split(X, y, train_size=650)"
   ]
  },
  {
   "cell_type": "code",
   "execution_count": 566,
   "metadata": {},
   "outputs": [],
   "source": [
    "#############################################################################################\n",
    "# Training a model\n",
    "import time\n",
    "def train_model(clf, X_train, y_train):\n",
    "    print (\"Training {}...\".format(clf.__class__.__name__))\n",
    "    start = time.time()\n",
    "    clf.fit(X_train, y_train)\n",
    "    end = time.time()\n",
    "    trainingtime=end-start\n",
    "    print (\"Done!\\nTraining time (secs): {:.3f}\".format(trainingtime))\n",
    "    return trainingtime"
   ]
  },
  {
   "cell_type": "code",
   "execution_count": 567,
   "metadata": {},
   "outputs": [
    {
     "name": "stdout",
     "output_type": "stream",
     "text": [
      "Training DecisionTreeClassifier...\n",
      "Done!\n",
      "Training time (secs): 0.003\n"
     ]
    }
   ],
   "source": [
    "##################################################################################################\n",
    "#Decision Tree Classifier\n",
    "from sklearn.tree import DecisionTreeClassifier\n",
    "clf = DecisionTreeClassifier()\n",
    "\n",
    "# Fitting the model to training data\n",
    "DTC_trainingtime = train_model(clf, X_train, y_train)"
   ]
  },
  {
   "cell_type": "code",
   "execution_count": 568,
   "metadata": {},
   "outputs": [
    {
     "name": "stdout",
     "output_type": "stream",
     "text": [
      "Predicting labels using DecisionTreeClassifier...\n",
      "Done!\n",
      "Prediction time (secs): 0.001\n",
      "F1 score for training set: 1.0\n",
      "Predicting labels using DecisionTreeClassifier...\n",
      "Done!\n",
      "Prediction time (secs): 0.001\n",
      "F1 score for test set: 1.0\n"
     ]
    }
   ],
   "source": [
    "#############################################################################################\n",
    "# Predicting the performance metric on training set and compute F1 score\n",
    "from sklearn.metrics import f1_score\n",
    "\n",
    "def predict_labels(clf, features, target):\n",
    "    print (\"Predicting labels using {}...\".format(clf.__class__.__name__))\n",
    "    start = time.time()\n",
    "    y_pred = clf.predict(features)\n",
    "    end = time.time()\n",
    "    print (\"Done!\\nPrediction time (secs): {:.3f}\".format(end - start))\n",
    "    return f1_score(target, y_pred, pos_label=1)\n",
    "\n",
    "train_f1_score = predict_labels(clf, X_train, y_train)\n",
    "print (\"F1 score for training set: {}\".format(train_f1_score))\n",
    "\n",
    "# Predict on test data\n",
    "print (\"F1 score for test set: {}\".format(predict_labels(clf, X_test, y_test)))"
   ]
  },
  {
   "cell_type": "code",
   "execution_count": 569,
   "metadata": {},
   "outputs": [],
   "source": [
    "#############################################################################################\n",
    "# Predicting the Test set results\n",
    "y_pred = clf.predict(X_test)"
   ]
  },
  {
   "cell_type": "code",
   "execution_count": 570,
   "metadata": {},
   "outputs": [
    {
     "name": "stdout",
     "output_type": "stream",
     "text": [
      "[[227   0]\n",
      " [  0  72]]\n"
     ]
    }
   ],
   "source": [
    "#############################################################################################\n",
    "# Making the Confusion Matrix\n",
    "from sklearn.metrics import confusion_matrix\n",
    "cm = confusion_matrix(y_test, y_pred)\n",
    "print(cm)"
   ]
  },
  {
   "cell_type": "code",
   "execution_count": 571,
   "metadata": {},
   "outputs": [],
   "source": [
    "#############################################################################################\n",
    "# Predicting the Test set results\n",
    "y_pred = clf.predict(prediction_features)"
   ]
  },
  {
   "cell_type": "code",
   "execution_count": 572,
   "metadata": {},
   "outputs": [
    {
     "data": {
      "text/html": [
       "<div>\n",
       "<style scoped>\n",
       "    .dataframe tbody tr th:only-of-type {\n",
       "        vertical-align: middle;\n",
       "    }\n",
       "\n",
       "    .dataframe tbody tr th {\n",
       "        vertical-align: top;\n",
       "    }\n",
       "\n",
       "    .dataframe thead th {\n",
       "        text-align: right;\n",
       "    }\n",
       "</style>\n",
       "<table border=\"1\" class=\"dataframe\">\n",
       "  <thead>\n",
       "    <tr style=\"text-align: right;\">\n",
       "      <th></th>\n",
       "      <th>Sex</th>\n",
       "      <th>Age</th>\n",
       "      <th>Tenure</th>\n",
       "      <th>Count_CA</th>\n",
       "      <th>Count_SA</th>\n",
       "      <th>Count_MF</th>\n",
       "      <th>Count_OVD</th>\n",
       "      <th>Count_CC</th>\n",
       "      <th>Count_CL</th>\n",
       "      <th>ActBal_CA</th>\n",
       "      <th>...</th>\n",
       "      <th>TransactionsDeb_CA</th>\n",
       "      <th>TransactionsDebCash_Card</th>\n",
       "      <th>TransactionsDebCashless_Card</th>\n",
       "      <th>TransactionsDeb_PaymentOrder</th>\n",
       "      <th>Sale_MF</th>\n",
       "      <th>Sale_CL</th>\n",
       "      <th>Revenue_MF</th>\n",
       "      <th>Revenue_CC</th>\n",
       "      <th>Revenue_CL</th>\n",
       "      <th>Predicted_Sale_CC</th>\n",
       "    </tr>\n",
       "    <tr>\n",
       "      <th>Client</th>\n",
       "      <th></th>\n",
       "      <th></th>\n",
       "      <th></th>\n",
       "      <th></th>\n",
       "      <th></th>\n",
       "      <th></th>\n",
       "      <th></th>\n",
       "      <th></th>\n",
       "      <th></th>\n",
       "      <th></th>\n",
       "      <th></th>\n",
       "      <th></th>\n",
       "      <th></th>\n",
       "      <th></th>\n",
       "      <th></th>\n",
       "      <th></th>\n",
       "      <th></th>\n",
       "      <th></th>\n",
       "      <th></th>\n",
       "      <th></th>\n",
       "      <th></th>\n",
       "    </tr>\n",
       "  </thead>\n",
       "  <tbody>\n",
       "    <tr>\n",
       "      <th>850</th>\n",
       "      <td>0</td>\n",
       "      <td>49</td>\n",
       "      <td>44</td>\n",
       "      <td>1</td>\n",
       "      <td>6.0</td>\n",
       "      <td>79.0</td>\n",
       "      <td>2.0</td>\n",
       "      <td>2.0</td>\n",
       "      <td>5.0</td>\n",
       "      <td>43.523214</td>\n",
       "      <td>...</td>\n",
       "      <td>6.0</td>\n",
       "      <td>0.0</td>\n",
       "      <td>0.0</td>\n",
       "      <td>1.0</td>\n",
       "      <td>0.0</td>\n",
       "      <td>0.0</td>\n",
       "      <td>0.0</td>\n",
       "      <td>0.893929</td>\n",
       "      <td>0.000000</td>\n",
       "      <td>1.0</td>\n",
       "    </tr>\n",
       "    <tr>\n",
       "      <th>827</th>\n",
       "      <td>1</td>\n",
       "      <td>57</td>\n",
       "      <td>50</td>\n",
       "      <td>1</td>\n",
       "      <td>6.0</td>\n",
       "      <td>79.0</td>\n",
       "      <td>1.0</td>\n",
       "      <td>1.0</td>\n",
       "      <td>5.0</td>\n",
       "      <td>49.193571</td>\n",
       "      <td>...</td>\n",
       "      <td>23.0</td>\n",
       "      <td>4.0</td>\n",
       "      <td>1.0</td>\n",
       "      <td>17.0</td>\n",
       "      <td>0.0</td>\n",
       "      <td>1.0</td>\n",
       "      <td>0.0</td>\n",
       "      <td>7.928571</td>\n",
       "      <td>12.242143</td>\n",
       "      <td>1.0</td>\n",
       "    </tr>\n",
       "    <tr>\n",
       "      <th>739</th>\n",
       "      <td>1</td>\n",
       "      <td>69</td>\n",
       "      <td>55</td>\n",
       "      <td>1</td>\n",
       "      <td>1.0</td>\n",
       "      <td>8.0</td>\n",
       "      <td>1.0</td>\n",
       "      <td>2.0</td>\n",
       "      <td>1.0</td>\n",
       "      <td>5519.308929</td>\n",
       "      <td>...</td>\n",
       "      <td>5.0</td>\n",
       "      <td>0.0</td>\n",
       "      <td>3.0</td>\n",
       "      <td>0.0</td>\n",
       "      <td>0.0</td>\n",
       "      <td>1.0</td>\n",
       "      <td>0.0</td>\n",
       "      <td>2.138571</td>\n",
       "      <td>7.785714</td>\n",
       "      <td>1.0</td>\n",
       "    </tr>\n",
       "    <tr>\n",
       "      <th>137</th>\n",
       "      <td>0</td>\n",
       "      <td>63</td>\n",
       "      <td>168</td>\n",
       "      <td>3</td>\n",
       "      <td>6.0</td>\n",
       "      <td>1.0</td>\n",
       "      <td>2.0</td>\n",
       "      <td>2.0</td>\n",
       "      <td>5.0</td>\n",
       "      <td>185.722143</td>\n",
       "      <td>...</td>\n",
       "      <td>11.0</td>\n",
       "      <td>1.0</td>\n",
       "      <td>6.0</td>\n",
       "      <td>3.0</td>\n",
       "      <td>0.0</td>\n",
       "      <td>0.0</td>\n",
       "      <td>0.0</td>\n",
       "      <td>9.392857</td>\n",
       "      <td>0.000000</td>\n",
       "      <td>1.0</td>\n",
       "    </tr>\n",
       "    <tr>\n",
       "      <th>1160</th>\n",
       "      <td>1</td>\n",
       "      <td>19</td>\n",
       "      <td>260</td>\n",
       "      <td>1</td>\n",
       "      <td>6.0</td>\n",
       "      <td>79.0</td>\n",
       "      <td>1.0</td>\n",
       "      <td>2.0</td>\n",
       "      <td>1.0</td>\n",
       "      <td>2723.980357</td>\n",
       "      <td>...</td>\n",
       "      <td>26.0</td>\n",
       "      <td>3.0</td>\n",
       "      <td>9.0</td>\n",
       "      <td>7.0</td>\n",
       "      <td>0.0</td>\n",
       "      <td>1.0</td>\n",
       "      <td>0.0</td>\n",
       "      <td>0.857143</td>\n",
       "      <td>17.993214</td>\n",
       "      <td>1.0</td>\n",
       "    </tr>\n",
       "  </tbody>\n",
       "</table>\n",
       "<p>5 rows × 35 columns</p>\n",
       "</div>"
      ],
      "text/plain": [
       "        Sex  Age  Tenure  Count_CA  Count_SA  Count_MF  Count_OVD  Count_CC  \\\n",
       "Client                                                                        \n",
       "850       0   49      44         1       6.0      79.0        2.0       2.0   \n",
       "827       1   57      50         1       6.0      79.0        1.0       1.0   \n",
       "739       1   69      55         1       1.0       8.0        1.0       2.0   \n",
       "137       0   63     168         3       6.0       1.0        2.0       2.0   \n",
       "1160      1   19     260         1       6.0      79.0        1.0       2.0   \n",
       "\n",
       "        Count_CL    ActBal_CA        ...          TransactionsDeb_CA  \\\n",
       "Client                               ...                               \n",
       "850          5.0    43.523214        ...                         6.0   \n",
       "827          5.0    49.193571        ...                        23.0   \n",
       "739          1.0  5519.308929        ...                         5.0   \n",
       "137          5.0   185.722143        ...                        11.0   \n",
       "1160         1.0  2723.980357        ...                        26.0   \n",
       "\n",
       "        TransactionsDebCash_Card  TransactionsDebCashless_Card  \\\n",
       "Client                                                           \n",
       "850                          0.0                           0.0   \n",
       "827                          4.0                           1.0   \n",
       "739                          0.0                           3.0   \n",
       "137                          1.0                           6.0   \n",
       "1160                         3.0                           9.0   \n",
       "\n",
       "        TransactionsDeb_PaymentOrder  Sale_MF  Sale_CL  Revenue_MF  \\\n",
       "Client                                                               \n",
       "850                              1.0      0.0      0.0         0.0   \n",
       "827                             17.0      0.0      1.0         0.0   \n",
       "739                              0.0      0.0      1.0         0.0   \n",
       "137                              3.0      0.0      0.0         0.0   \n",
       "1160                             7.0      0.0      1.0         0.0   \n",
       "\n",
       "        Revenue_CC  Revenue_CL  Predicted_Sale_CC  \n",
       "Client                                             \n",
       "850       0.893929    0.000000                1.0  \n",
       "827       7.928571   12.242143                1.0  \n",
       "739       2.138571    7.785714                1.0  \n",
       "137       9.392857    0.000000                1.0  \n",
       "1160      0.857143   17.993214                1.0  \n",
       "\n",
       "[5 rows x 35 columns]"
      ]
     },
     "execution_count": 572,
     "metadata": {},
     "output_type": "execute_result"
    }
   ],
   "source": [
    "#############################################################################################\n",
    "# Adding the credit card sale classified value to last column\n",
    "prediction_features['Predicted_Sale_CC'] = y_pred\n",
    "prediction_classified_features=prediction_features.loc[prediction_features['Predicted_Sale_CC'] == 1]\n",
    "prediction_classified_target = prediction_classified_features['Revenue_CC']\n",
    "prediction_classified_features.head()"
   ]
  },
  {
   "cell_type": "code",
   "execution_count": 573,
   "metadata": {},
   "outputs": [
    {
     "name": "stdout",
     "output_type": "stream",
     "text": [
      "237\n"
     ]
    }
   ],
   "source": [
    "print(len(prediction_classified_features))"
   ]
  },
  {
   "cell_type": "markdown",
   "metadata": {},
   "source": [
    "# Below code describes the regression part of the problem"
   ]
  },
  {
   "cell_type": "markdown",
   "metadata": {},
   "source": [
    "# Provides the calculation of customers revenue based on credit cards"
   ]
  },
  {
   "cell_type": "code",
   "execution_count": 574,
   "metadata": {},
   "outputs": [],
   "source": [
    "###############################################################################\n",
    "# Implement LabelEncoder class to convert categorical variables to numerical\n",
    "from sklearn.preprocessing import LabelEncoder\n",
    "number=LabelEncoder()\n",
    "result_merged ['Sex']=number.fit_transform(result_merged ['Sex'].astype('str'))\n",
    "prediction_regression_features = result_merged"
   ]
  },
  {
   "cell_type": "code",
   "execution_count": 575,
   "metadata": {},
   "outputs": [],
   "source": [
    "###############################################################################\n",
    "#Removing the irrevelant features from exploratory variables because of multi-collinearity\n",
    "# Data set for CC customers\n",
    "columns=['Sale_MF', 'Sale_CL','Sale_CC','Revenue_MF','Revenue_CL','Revenue_CC']\n",
    "prediction_regression_features=prediction_regression_features.drop(columns, axis=1)\n",
    "\n",
    "columns=['Sale_MF','Sale_CL', 'Revenue_MF','Revenue_CC','Revenue_CL','Predicted_Sale_CC']\n",
    "prediction_classified_features=prediction_classified_features.drop(columns, axis=1)\n",
    "\n",
    "# Assign explanatroy and target variables\n",
    "# Input and output Features\n",
    "feature_cols = prediction_regression_features\n",
    "target_cols = result_merged['Revenue_CC']  # Revenue_CC column is the target/label\n",
    "X_reg = feature_cols  # feature values for all data points\n",
    "y_reg= target_cols  # corresponding targets/labels"
   ]
  },
  {
   "cell_type": "code",
   "execution_count": 576,
   "metadata": {},
   "outputs": [],
   "source": [
    "###############################################################################\n",
    "#Cross validation on the given training data set\n",
    "from sklearn import cross_validation\n",
    "from sklearn.cross_validation import train_test_split\n",
    "X_reg_train,X_reg_test,y_reg_train,y_reg_test = cross_validation.train_test_split(X_reg, y_reg, train_size=750)"
   ]
  },
  {
   "cell_type": "code",
   "execution_count": 577,
   "metadata": {},
   "outputs": [],
   "source": [
    "###############################################################################\n",
    "# Training a model\n",
    "import time\n",
    "def train_regressor(reg, X_reg_train, y_reg_train):\n",
    "    print (\"Training {}...\".format(reg.__class__.__name__))\n",
    "    start = time.time()\n",
    "    reg.fit(X_reg_train, y_reg_train)\n",
    "    end = time.time()\n",
    "    trainingtime=end-start\n",
    "    print (\"Done!\\nTraining time (secs): {:.3f}\".format(trainingtime))\n",
    "    return trainingtime"
   ]
  },
  {
   "cell_type": "code",
   "execution_count": 578,
   "metadata": {},
   "outputs": [],
   "source": [
    "from sklearn.linear_model import LinearRegression\n",
    "regressor = LinearRegression()"
   ]
  },
  {
   "cell_type": "code",
   "execution_count": 579,
   "metadata": {},
   "outputs": [
    {
     "name": "stdout",
     "output_type": "stream",
     "text": [
      "Successfully fit a model!\n"
     ]
    }
   ],
   "source": [
    "###############################################################################\n",
    "# Fit a model \n",
    "from sklearn.metrics import make_scorer\n",
    "from sklearn import grid_search\n",
    "from sklearn.metrics import mean_squared_error\n",
    "def fit_model(X1, y1):\n",
    "\n",
    "    # Setting up the parameters we wish to tune\n",
    "    parameters = {'fit_intercept':[True,False], 'normalize':[True,False], 'copy_X':[True, False]}\n",
    "\n",
    "    # Making an appropriate scoring function\n",
    "    scoring_function = make_scorer(mean_squared_error,greater_is_better=False)\n",
    "\n",
    "    # Making the GridSearchCV object\n",
    "    reg = grid_search.GridSearchCV(regressor, parameters,scoring=scoring_function)\n",
    "\n",
    "    # Fitting the the learner to the data to obtain the optimal model with tuned parameters\n",
    "    reg.fit(X1, y1)\n",
    "\n",
    "    # Returning the optimal model\n",
    "    return reg\n",
    "\n",
    "try:\n",
    "    regression_Credit_card = fit_model(X_reg_train, y_reg_train)\n",
    "    print (\"Successfully fit a model!\")\n",
    "except:\n",
    "    print (\"Something went wrong with fitting a model.\")"
   ]
  },
  {
   "cell_type": "code",
   "execution_count": 580,
   "metadata": {},
   "outputs": [
    {
     "data": {
      "image/png": "[encoded data removed]",
      "text/plain": [
       "<matplotlib.figure.Figure at 0x14f56290>"
      ]
     },
     "metadata": {},
     "output_type": "display_data"
    }
   ],
   "source": [
    "###############################################################################\n",
    "revenues_CC_Test = regression_Credit_card.predict(X_reg_test)\n",
    "fig, ax = plt.subplots()\n",
    "ax.scatter(y_reg_test, revenues_CC_Test, edgecolors=(0, 0, 0))\n",
    "ax.plot([y_reg_test.min(), y_reg_test.max()], [y_reg_test.min(), y_reg_test.max()], 'k--', lw=4)\n",
    "ax.set_xlabel('Measured')\n",
    "ax.set_ylabel('Predicted')\n",
    "plt.show()"
   ]
  },
  {
   "cell_type": "code",
   "execution_count": 581,
   "metadata": {},
   "outputs": [
    {
     "name": "stdout",
     "output_type": "stream",
     "text": [
      "Final model optimal parameters: {'copy_X': True, 'fit_intercept': False, 'normalize': True}\n"
     ]
    }
   ],
   "source": [
    "###############################################################################\n",
    "print (\"Final model optimal parameters:\", regression_Credit_card.best_params_)\n",
    "revenues_CC_predicted = regression_Credit_card.predict(prediction_classified_features)\n",
    "prediction_classified_features['Predicted_CC_Revenue']=revenues_CC_predicted"
   ]
  },
  {
   "cell_type": "code",
   "execution_count": 582,
   "metadata": {},
   "outputs": [
    {
     "data": {
      "text/html": [
       "<div>\n",
       "<style scoped>\n",
       "    .dataframe tbody tr th:only-of-type {\n",
       "        vertical-align: middle;\n",
       "    }\n",
       "\n",
       "    .dataframe tbody tr th {\n",
       "        vertical-align: top;\n",
       "    }\n",
       "\n",
       "    .dataframe thead th {\n",
       "        text-align: right;\n",
       "    }\n",
       "</style>\n",
       "<table border=\"1\" class=\"dataframe\">\n",
       "  <thead>\n",
       "    <tr style=\"text-align: right;\">\n",
       "      <th></th>\n",
       "      <th>Sex</th>\n",
       "      <th>Age</th>\n",
       "      <th>Tenure</th>\n",
       "      <th>Count_CA</th>\n",
       "      <th>Count_SA</th>\n",
       "      <th>Count_MF</th>\n",
       "      <th>Count_OVD</th>\n",
       "      <th>Count_CC</th>\n",
       "      <th>Count_CL</th>\n",
       "      <th>ActBal_CA</th>\n",
       "      <th>...</th>\n",
       "      <th>VolumeDeb_CA</th>\n",
       "      <th>VolumeDebCash_Card</th>\n",
       "      <th>VolumeDebCashless_Card</th>\n",
       "      <th>VolumeDeb_PaymentOrder</th>\n",
       "      <th>TransactionsDeb</th>\n",
       "      <th>TransactionsDeb_CA</th>\n",
       "      <th>TransactionsDebCash_Card</th>\n",
       "      <th>TransactionsDebCashless_Card</th>\n",
       "      <th>TransactionsDeb_PaymentOrder</th>\n",
       "      <th>Predicted_CC_Revenue</th>\n",
       "    </tr>\n",
       "    <tr>\n",
       "      <th>Client</th>\n",
       "      <th></th>\n",
       "      <th></th>\n",
       "      <th></th>\n",
       "      <th></th>\n",
       "      <th></th>\n",
       "      <th></th>\n",
       "      <th></th>\n",
       "      <th></th>\n",
       "      <th></th>\n",
       "      <th></th>\n",
       "      <th></th>\n",
       "      <th></th>\n",
       "      <th></th>\n",
       "      <th></th>\n",
       "      <th></th>\n",
       "      <th></th>\n",
       "      <th></th>\n",
       "      <th></th>\n",
       "      <th></th>\n",
       "      <th></th>\n",
       "      <th></th>\n",
       "    </tr>\n",
       "  </thead>\n",
       "  <tbody>\n",
       "    <tr>\n",
       "      <th>850</th>\n",
       "      <td>0</td>\n",
       "      <td>49</td>\n",
       "      <td>44</td>\n",
       "      <td>1</td>\n",
       "      <td>6.0</td>\n",
       "      <td>79.0</td>\n",
       "      <td>2.0</td>\n",
       "      <td>2.0</td>\n",
       "      <td>5.0</td>\n",
       "      <td>43.523214</td>\n",
       "      <td>...</td>\n",
       "      <td>1226.345357</td>\n",
       "      <td>0.000000</td>\n",
       "      <td>0.000000</td>\n",
       "      <td>121.928571</td>\n",
       "      <td>6.0</td>\n",
       "      <td>6.0</td>\n",
       "      <td>0.0</td>\n",
       "      <td>0.0</td>\n",
       "      <td>1.0</td>\n",
       "      <td>2.935005</td>\n",
       "    </tr>\n",
       "    <tr>\n",
       "      <th>827</th>\n",
       "      <td>1</td>\n",
       "      <td>57</td>\n",
       "      <td>50</td>\n",
       "      <td>1</td>\n",
       "      <td>6.0</td>\n",
       "      <td>79.0</td>\n",
       "      <td>1.0</td>\n",
       "      <td>1.0</td>\n",
       "      <td>5.0</td>\n",
       "      <td>49.193571</td>\n",
       "      <td>...</td>\n",
       "      <td>1455.035714</td>\n",
       "      <td>607.142857</td>\n",
       "      <td>17.857143</td>\n",
       "      <td>843.250000</td>\n",
       "      <td>26.0</td>\n",
       "      <td>23.0</td>\n",
       "      <td>4.0</td>\n",
       "      <td>1.0</td>\n",
       "      <td>17.0</td>\n",
       "      <td>7.113194</td>\n",
       "    </tr>\n",
       "    <tr>\n",
       "      <th>739</th>\n",
       "      <td>1</td>\n",
       "      <td>69</td>\n",
       "      <td>55</td>\n",
       "      <td>1</td>\n",
       "      <td>1.0</td>\n",
       "      <td>8.0</td>\n",
       "      <td>1.0</td>\n",
       "      <td>2.0</td>\n",
       "      <td>1.0</td>\n",
       "      <td>5519.308929</td>\n",
       "      <td>...</td>\n",
       "      <td>282.575000</td>\n",
       "      <td>0.000000</td>\n",
       "      <td>211.182143</td>\n",
       "      <td>0.000000</td>\n",
       "      <td>7.0</td>\n",
       "      <td>5.0</td>\n",
       "      <td>0.0</td>\n",
       "      <td>3.0</td>\n",
       "      <td>0.0</td>\n",
       "      <td>4.567623</td>\n",
       "    </tr>\n",
       "    <tr>\n",
       "      <th>137</th>\n",
       "      <td>0</td>\n",
       "      <td>63</td>\n",
       "      <td>168</td>\n",
       "      <td>3</td>\n",
       "      <td>6.0</td>\n",
       "      <td>1.0</td>\n",
       "      <td>2.0</td>\n",
       "      <td>2.0</td>\n",
       "      <td>5.0</td>\n",
       "      <td>185.722143</td>\n",
       "      <td>...</td>\n",
       "      <td>503.980714</td>\n",
       "      <td>178.571429</td>\n",
       "      <td>255.909286</td>\n",
       "      <td>67.428571</td>\n",
       "      <td>11.0</td>\n",
       "      <td>11.0</td>\n",
       "      <td>1.0</td>\n",
       "      <td>6.0</td>\n",
       "      <td>3.0</td>\n",
       "      <td>1.297210</td>\n",
       "    </tr>\n",
       "    <tr>\n",
       "      <th>1160</th>\n",
       "      <td>1</td>\n",
       "      <td>19</td>\n",
       "      <td>260</td>\n",
       "      <td>1</td>\n",
       "      <td>6.0</td>\n",
       "      <td>79.0</td>\n",
       "      <td>1.0</td>\n",
       "      <td>2.0</td>\n",
       "      <td>1.0</td>\n",
       "      <td>2723.980357</td>\n",
       "      <td>...</td>\n",
       "      <td>925.625000</td>\n",
       "      <td>285.714286</td>\n",
       "      <td>190.814286</td>\n",
       "      <td>178.642857</td>\n",
       "      <td>28.0</td>\n",
       "      <td>26.0</td>\n",
       "      <td>3.0</td>\n",
       "      <td>9.0</td>\n",
       "      <td>7.0</td>\n",
       "      <td>2.125951</td>\n",
       "    </tr>\n",
       "  </tbody>\n",
       "</table>\n",
       "<p>5 rows × 30 columns</p>\n",
       "</div>"
      ],
      "text/plain": [
       "        Sex  Age  Tenure  Count_CA  Count_SA  Count_MF  Count_OVD  Count_CC  \\\n",
       "Client                                                                        \n",
       "850       0   49      44         1       6.0      79.0        2.0       2.0   \n",
       "827       1   57      50         1       6.0      79.0        1.0       1.0   \n",
       "739       1   69      55         1       1.0       8.0        1.0       2.0   \n",
       "137       0   63     168         3       6.0       1.0        2.0       2.0   \n",
       "1160      1   19     260         1       6.0      79.0        1.0       2.0   \n",
       "\n",
       "        Count_CL    ActBal_CA          ...           VolumeDeb_CA  \\\n",
       "Client                                 ...                          \n",
       "850          5.0    43.523214          ...            1226.345357   \n",
       "827          5.0    49.193571          ...            1455.035714   \n",
       "739          1.0  5519.308929          ...             282.575000   \n",
       "137          5.0   185.722143          ...             503.980714   \n",
       "1160         1.0  2723.980357          ...             925.625000   \n",
       "\n",
       "        VolumeDebCash_Card  VolumeDebCashless_Card  VolumeDeb_PaymentOrder  \\\n",
       "Client                                                                       \n",
       "850               0.000000                0.000000              121.928571   \n",
       "827             607.142857               17.857143              843.250000   \n",
       "739               0.000000              211.182143                0.000000   \n",
       "137             178.571429              255.909286               67.428571   \n",
       "1160            285.714286              190.814286              178.642857   \n",
       "\n",
       "        TransactionsDeb  TransactionsDeb_CA  TransactionsDebCash_Card  \\\n",
       "Client                                                                  \n",
       "850                 6.0                 6.0                       0.0   \n",
       "827                26.0                23.0                       4.0   \n",
       "739                 7.0                 5.0                       0.0   \n",
       "137                11.0                11.0                       1.0   \n",
       "1160               28.0                26.0                       3.0   \n",
       "\n",
       "        TransactionsDebCashless_Card  TransactionsDeb_PaymentOrder  \\\n",
       "Client                                                               \n",
       "850                              0.0                           1.0   \n",
       "827                              1.0                          17.0   \n",
       "739                              3.0                           0.0   \n",
       "137                              6.0                           3.0   \n",
       "1160                             9.0                           7.0   \n",
       "\n",
       "        Predicted_CC_Revenue  \n",
       "Client                        \n",
       "850                 2.935005  \n",
       "827                 7.113194  \n",
       "739                 4.567623  \n",
       "137                 1.297210  \n",
       "1160                2.125951  \n",
       "\n",
       "[5 rows x 30 columns]"
      ]
     },
     "execution_count": 582,
     "metadata": {},
     "output_type": "execute_result"
    }
   ],
   "source": [
    "prediction_classified_features.head()"
   ]
  },
  {
   "cell_type": "code",
   "execution_count": 583,
   "metadata": {},
   "outputs": [
    {
     "data": {
      "image/png": "[encoded data removed]",
      "text/plain": [
       "<matplotlib.figure.Figure at 0x13074e10>"
      ]
     },
     "metadata": {},
     "output_type": "display_data"
    }
   ],
   "source": [
    "fig, ax = plt.subplots()\n",
    "ax.scatter(prediction_classified_target, revenues_CC_predicted, edgecolors=(0, 0, 0))\n",
    "ax.plot([prediction_classified_target.min(), prediction_classified_target.max()], [prediction_classified_target.min(), prediction_classified_target.max()], 'k--', lw=4)\n",
    "ax.set_xlabel('Measured')\n",
    "ax.set_ylabel('Predicted')\n",
    "plt.show()"
   ]
  },
  {
   "cell_type": "code",
   "execution_count": 584,
   "metadata": {},
   "outputs": [],
   "source": [
    "prediction_classified_features.to_csv('CC_Customers.csv')"
   ]
  },
  {
   "cell_type": "code",
   "execution_count": 585,
   "metadata": {},
   "outputs": [
    {
     "data": {
      "text/plain": [
       "'C:\\\\Users\\\\DiyaMol\\\\KBC-Group'"
      ]
     },
     "execution_count": 585,
     "metadata": {},
     "output_type": "execute_result"
    }
   ],
   "source": [
    "pwd"
   ]
  },
  {
   "cell_type": "code",
   "execution_count": null,
   "metadata": {},
   "outputs": [],
   "source": []
  }
 ],
 "metadata": {
  "kernelspec": {
   "display_name": "Python 3",
   "language": "python",
   "name": "python3"
  },
  "language_info": {
   "codemirror_mode": {
    "name": "ipython",
    "version": 3
   },
   "file_extension": ".py",
   "mimetype": "text/x-python",
   "name": "python",
   "nbconvert_exporter": "python",
   "pygments_lexer": "ipython3",
   "version": "3.6.3"
  }
 },
 "nbformat": 4,
 "nbformat_minor": 2
}
