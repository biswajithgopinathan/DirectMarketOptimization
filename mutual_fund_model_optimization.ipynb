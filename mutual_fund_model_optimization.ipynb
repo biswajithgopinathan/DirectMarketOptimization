{
 "cells": [
  {
   "cell_type": "markdown",
   "metadata": {
    "collapsed": true
   },
   "source": [
    " # KBC Direct Market Optimization"
   ]
  },
  {
   "cell_type": "markdown",
   "metadata": {},
   "source": [
    "### Below source code represents classifying customers having high propensity to buy Mutual Funds"
   ]
  },
  {
   "cell_type": "code",
   "execution_count": 323,
   "metadata": {},
   "outputs": [],
   "source": [
    "#############################################################################################\n",
    "# Importing the libraries\n",
    "import numpy as np\n",
    "import matplotlib.pyplot as plt\n",
    "import pandas as pd\n",
    "import xlrd\n",
    "from sklearn.preprocessing import LabelEncoder\n",
    "from sklearn.preprocessing import Imputer\n",
    "from sklearn import cross_validation\n",
    "from sklearn.cross_validation import train_test_split\n",
    "from sklearn.linear_model import LogisticRegressionCV"
   ]
  },
  {
   "cell_type": "code",
   "execution_count": 324,
   "metadata": {},
   "outputs": [
    {
     "name": "stdout",
     "output_type": "stream",
     "text": [
      "the number of worksheets are 5\n"
     ]
    }
   ],
   "source": [
    "#############################################################################################\n",
    "# Import excel file from location\n",
    "file_location = ('Task_Data_Scientist_Dataset.xlsx')\n",
    "workbook = xlrd.open_workbook(file_location)\n",
    "print(\"the number of worksheets are\",workbook.nsheets)"
   ]
  },
  {
   "cell_type": "code",
   "execution_count": 325,
   "metadata": {},
   "outputs": [],
   "source": [
    "#############################################################################################\n",
    "# Load sequentially the spread sheets into subsequent dataframe\n",
    "spread_sheet = pd.ExcelFile(file_location)\n",
    "socail_demographic = spread_sheet.parse('Soc_Dem')\n",
    "products_balance = spread_sheet.parse('Products_ActBalance')\n",
    "inflow_outflow = spread_sheet.parse('Inflow_Outflow')\n",
    "sales_revenue = spread_sheet.parse('Sales_Revenues')"
   ]
  },
  {
   "cell_type": "code",
   "execution_count": 326,
   "metadata": {},
   "outputs": [],
   "source": [
    "#############################################################################################\n",
    "# Merge the sheets to one major sheet in order to implement the learning model\n",
    "merge_first_second = pd.merge(socail_demographic, products_balance, how='left', left_on='Client', right_on='Client') \n",
    "merge_second_third = pd.merge(inflow_outflow, sales_revenue, how='left', left_on='Client', right_on='Client')\n",
    "result_merged = pd.merge(merge_first_second, merge_second_third, how='left', left_on='Client', right_on='Client')\n",
    "result_merged = result_merged.set_index('Client')\n",
    "\n",
    "na_entries = {'Count_MF': 79, 'Count_CL':5,\n",
    "              'Count_OVD':2,'Count_CC':2,\n",
    "              'ActBal_SA':0,'ActBal_MF':0,\n",
    "              'ActBal_OVD':0, 'Count_SA': 6,\n",
    "              'ActBal_CC':0,'ActBal_CL':0 }\n",
    "result_merged = result_merged.fillna(value=na_entries, inplace=False)\n",
    "result_merged =result_merged .dropna(axis=0, how='any')"
   ]
  },
  {
   "cell_type": "code",
   "execution_count": 327,
   "metadata": {},
   "outputs": [],
   "source": [
    "#############################################################################################\n",
    "# Implement LabelEncoder class to convert categorical variables to numerical values\n",
    "number=LabelEncoder()\n",
    "result_merged ['Sex']=number.fit_transform(result_merged ['Sex'].astype('str'))\n",
    "\n",
    "# Assign a variable used for prediction by removing Sale_MF, the target variable\n",
    "prediction_features = result_merged.drop('Sale_MF', axis=1)\n",
    "\n",
    "# Assign explanatroy and target variables\n",
    "# Input and output Features\n",
    "feature_cols = prediction_features\n",
    "target_cols = result_merged['Sale_MF']  # Sale_MF column is the target/label\n",
    "X = feature_cols  # feature values for all data points\n",
    "y= target_cols  # corresponding targets/labels\n"
   ]
  },
  {
   "cell_type": "code",
   "execution_count": 328,
   "metadata": {},
   "outputs": [],
   "source": [
    "#############################################################################################\n",
    "# Handling missing variables by using Imputer Class\n",
    "imputer = Imputer(missing_values = 'NaN' , strategy = 'mean', axis = 0)\n",
    "imputer = imputer.fit(X)\n",
    "X= imputer.transform(X)"
   ]
  },
  {
   "cell_type": "code",
   "execution_count": 329,
   "metadata": {},
   "outputs": [],
   "source": [
    "#############################################################################################\n",
    "#Cross validation on the given data to split the training and test set\n",
    "X_train,X_test,y_train,y_test = cross_validation.train_test_split(X, y, train_size=650)"
   ]
  },
  {
   "cell_type": "code",
   "execution_count": 330,
   "metadata": {},
   "outputs": [],
   "source": [
    "#############################################################################################\n",
    "# Training a model - Method to train a given model\n",
    "import time\n",
    "\n",
    "def train_classifier(clf, X_train, y_train):\n",
    "    print (\"Training {}...\".format(clf.__class__.__name__))\n",
    "    start = time.time()\n",
    "    clf.fit(X_train, y_train)\n",
    "    end = time.time()\n",
    "    trainingtime=end-start\n",
    "    print (\"Done!\\nTraining time (secs): {:.3f}\".format(trainingtime))\n",
    "    return trainingtime\n"
   ]
  },
  {
   "cell_type": "code",
   "execution_count": 331,
   "metadata": {},
   "outputs": [
    {
     "name": "stdout",
     "output_type": "stream",
     "text": [
      "Training LogisticRegressionCV...\n",
      "Done!\n",
      "Training time (secs): 1.576\n",
      "1.5760900974273682\n"
     ]
    }
   ],
   "source": [
    "#############################################################################################\n",
    "# Fitting Logistic Regression to the Training set\n",
    "clf = LogisticRegressionCV()\n",
    "LR_trainingtime = train_classifier(clf, X_train, y_train)  # Using entire training set here\n",
    "print(LR_trainingtime)"
   ]
  },
  {
   "cell_type": "code",
   "execution_count": 332,
   "metadata": {},
   "outputs": [
    {
     "name": "stdout",
     "output_type": "stream",
     "text": [
      "Predicting labels using LogisticRegressionCV...\n",
      "Done!\n",
      "Prediction time (secs): 0.001\n",
      "F1 score for training set in Logistic Regression: 0.32298136645962733\n",
      "Predicting labels using LogisticRegressionCV...\n",
      "Done!\n",
      "Prediction time (secs): 0.057\n",
      "F1 score for test set in Logistic Regression: 0.29333333333333333\n"
     ]
    }
   ],
   "source": [
    "#############################################################################################\n",
    "# Predicting the performance metrics on training set and compute F1 score for Logistic Regression\n",
    "from sklearn.metrics import f1_score\n",
    "\n",
    "def predict_labels(clf, features, target):\n",
    "     print (\"Predicting labels using {}...\".format(clf.__class__.__name__))\n",
    "     start = time.time()\n",
    "     y_pred = clf.predict(features)\n",
    "     end = time.time()\n",
    "     print (\"Done!\\nPrediction time (secs): {:.3f}\".format(end - start))\n",
    "     return f1_score(target, y_pred, pos_label=1)\n",
    "\n",
    "train_f1_score = predict_labels(clf, X_train, y_train)\n",
    "print (\"F1 score for training set in Logistic Regression: {}\".format(train_f1_score))\n",
    "\n",
    "# Predict on test data\n",
    "print (\"F1 score for test set in Logistic Regression: {}\".format(predict_labels(clf, X_test, y_test)))"
   ]
  },
  {
   "cell_type": "code",
   "execution_count": 333,
   "metadata": {},
   "outputs": [
    {
     "name": "stdout",
     "output_type": "stream",
     "text": [
      "Training DecisionTreeClassifier...\n",
      "Done!\n",
      "Training time (secs): 0.119\n",
      "Predicting labels using DecisionTreeClassifier...\n",
      "Done!\n",
      "Prediction time (secs): 0.001\n",
      "F1 score for training set with Decision Tree Classifier: 1.0\n",
      "Predicting labels using DecisionTreeClassifier...\n",
      "Done!\n",
      "Prediction time (secs): 0.001\n",
      "F1 score for test set with Decision Tree Classifier: 1.0\n"
     ]
    }
   ],
   "source": [
    "#############################################################################################\n",
    "# Implementing Decision Tree Classifier since F1 score for Logistic Regression is comparitively less\n",
    "from sklearn.tree import DecisionTreeClassifier\n",
    "decision_clf = DecisionTreeClassifier()\n",
    "\n",
    "# Fitting the model to training data\n",
    "DTC_trainingtime = train_classifier(decision_clf, X_train, y_train)\n",
    "\n",
    "train_f1_score = predict_labels(decision_clf, X_train, y_train)\n",
    "\n",
    "# Predict on test data\n",
    "print (\"F1 score for training set with Decision Tree Classifier: {}\".format(train_f1_score))\n",
    "\n",
    "# Predict on test data\n",
    "print (\"F1 score for test set with Decision Tree Classifier: {}\".format(predict_labels(decision_clf, X_test, y_test)))"
   ]
  },
  {
   "cell_type": "code",
   "execution_count": 334,
   "metadata": {},
   "outputs": [
    {
     "name": "stdout",
     "output_type": "stream",
     "text": [
      "[[238   0]\n",
      " [  0  61]]\n"
     ]
    }
   ],
   "source": [
    "#############################################################################################\n",
    "# Evaluating Confusion Matrix - \n",
    "y_pred = decision_clf.predict(X_test)\n",
    "from sklearn.metrics import confusion_matrix\n",
    "cm = confusion_matrix(y_test, y_pred)\n",
    "print(cm)"
   ]
  },
  {
   "cell_type": "code",
   "execution_count": 335,
   "metadata": {},
   "outputs": [],
   "source": [
    "#############################################################################################\n",
    "# Predicting the Test set results using Decision Tree Classifier\n",
    "y_pred = decision_clf.predict(prediction_features)"
   ]
  },
  {
   "cell_type": "code",
   "execution_count": 336,
   "metadata": {},
   "outputs": [
    {
     "data": {
      "text/html": [
       "<div>\n",
       "<style scoped>\n",
       "    .dataframe tbody tr th:only-of-type {\n",
       "        vertical-align: middle;\n",
       "    }\n",
       "\n",
       "    .dataframe tbody tr th {\n",
       "        vertical-align: top;\n",
       "    }\n",
       "\n",
       "    .dataframe thead th {\n",
       "        text-align: right;\n",
       "    }\n",
       "</style>\n",
       "<table border=\"1\" class=\"dataframe\">\n",
       "  <thead>\n",
       "    <tr style=\"text-align: right;\">\n",
       "      <th></th>\n",
       "      <th>Sex</th>\n",
       "      <th>Age</th>\n",
       "      <th>Tenure</th>\n",
       "      <th>Count_CA</th>\n",
       "      <th>Count_SA</th>\n",
       "      <th>Count_MF</th>\n",
       "      <th>Count_OVD</th>\n",
       "      <th>Count_CC</th>\n",
       "      <th>Count_CL</th>\n",
       "      <th>ActBal_CA</th>\n",
       "      <th>...</th>\n",
       "      <th>TransactionsDeb_CA</th>\n",
       "      <th>TransactionsDebCash_Card</th>\n",
       "      <th>TransactionsDebCashless_Card</th>\n",
       "      <th>TransactionsDeb_PaymentOrder</th>\n",
       "      <th>Sale_CC</th>\n",
       "      <th>Sale_CL</th>\n",
       "      <th>Revenue_MF</th>\n",
       "      <th>Revenue_CC</th>\n",
       "      <th>Revenue_CL</th>\n",
       "      <th>Predicted_Sale_MF</th>\n",
       "    </tr>\n",
       "    <tr>\n",
       "      <th>Client</th>\n",
       "      <th></th>\n",
       "      <th></th>\n",
       "      <th></th>\n",
       "      <th></th>\n",
       "      <th></th>\n",
       "      <th></th>\n",
       "      <th></th>\n",
       "      <th></th>\n",
       "      <th></th>\n",
       "      <th></th>\n",
       "      <th></th>\n",
       "      <th></th>\n",
       "      <th></th>\n",
       "      <th></th>\n",
       "      <th></th>\n",
       "      <th></th>\n",
       "      <th></th>\n",
       "      <th></th>\n",
       "      <th></th>\n",
       "      <th></th>\n",
       "      <th></th>\n",
       "    </tr>\n",
       "  </thead>\n",
       "  <tbody>\n",
       "    <tr>\n",
       "      <th>1473</th>\n",
       "      <td>1</td>\n",
       "      <td>54</td>\n",
       "      <td>34</td>\n",
       "      <td>1</td>\n",
       "      <td>1.0</td>\n",
       "      <td>79.0</td>\n",
       "      <td>2.0</td>\n",
       "      <td>1.0</td>\n",
       "      <td>1.0</td>\n",
       "      <td>29.024286</td>\n",
       "      <td>...</td>\n",
       "      <td>38.0</td>\n",
       "      <td>1.0</td>\n",
       "      <td>26.0</td>\n",
       "      <td>11.0</td>\n",
       "      <td>0.0</td>\n",
       "      <td>0.0</td>\n",
       "      <td>4.929643</td>\n",
       "      <td>0.0</td>\n",
       "      <td>0.0</td>\n",
       "      <td>1.0</td>\n",
       "    </tr>\n",
       "    <tr>\n",
       "      <th>36</th>\n",
       "      <td>0</td>\n",
       "      <td>49</td>\n",
       "      <td>263</td>\n",
       "      <td>1</td>\n",
       "      <td>1.0</td>\n",
       "      <td>2.0</td>\n",
       "      <td>2.0</td>\n",
       "      <td>2.0</td>\n",
       "      <td>5.0</td>\n",
       "      <td>60.997857</td>\n",
       "      <td>...</td>\n",
       "      <td>0.0</td>\n",
       "      <td>0.0</td>\n",
       "      <td>0.0</td>\n",
       "      <td>0.0</td>\n",
       "      <td>0.0</td>\n",
       "      <td>0.0</td>\n",
       "      <td>0.238036</td>\n",
       "      <td>0.0</td>\n",
       "      <td>0.0</td>\n",
       "      <td>1.0</td>\n",
       "    </tr>\n",
       "    <tr>\n",
       "      <th>390</th>\n",
       "      <td>1</td>\n",
       "      <td>50</td>\n",
       "      <td>67</td>\n",
       "      <td>1</td>\n",
       "      <td>1.0</td>\n",
       "      <td>79.0</td>\n",
       "      <td>2.0</td>\n",
       "      <td>2.0</td>\n",
       "      <td>5.0</td>\n",
       "      <td>442.346071</td>\n",
       "      <td>...</td>\n",
       "      <td>38.0</td>\n",
       "      <td>2.0</td>\n",
       "      <td>29.0</td>\n",
       "      <td>6.0</td>\n",
       "      <td>0.0</td>\n",
       "      <td>0.0</td>\n",
       "      <td>1.379821</td>\n",
       "      <td>0.0</td>\n",
       "      <td>0.0</td>\n",
       "      <td>1.0</td>\n",
       "    </tr>\n",
       "    <tr>\n",
       "      <th>416</th>\n",
       "      <td>0</td>\n",
       "      <td>44</td>\n",
       "      <td>95</td>\n",
       "      <td>1</td>\n",
       "      <td>6.0</td>\n",
       "      <td>79.0</td>\n",
       "      <td>2.0</td>\n",
       "      <td>2.0</td>\n",
       "      <td>5.0</td>\n",
       "      <td>906.526071</td>\n",
       "      <td>...</td>\n",
       "      <td>25.0</td>\n",
       "      <td>4.0</td>\n",
       "      <td>21.0</td>\n",
       "      <td>0.0</td>\n",
       "      <td>0.0</td>\n",
       "      <td>0.0</td>\n",
       "      <td>10.363036</td>\n",
       "      <td>0.0</td>\n",
       "      <td>0.0</td>\n",
       "      <td>1.0</td>\n",
       "    </tr>\n",
       "    <tr>\n",
       "      <th>883</th>\n",
       "      <td>0</td>\n",
       "      <td>34</td>\n",
       "      <td>67</td>\n",
       "      <td>1</td>\n",
       "      <td>6.0</td>\n",
       "      <td>79.0</td>\n",
       "      <td>2.0</td>\n",
       "      <td>2.0</td>\n",
       "      <td>5.0</td>\n",
       "      <td>236.217857</td>\n",
       "      <td>...</td>\n",
       "      <td>7.0</td>\n",
       "      <td>2.0</td>\n",
       "      <td>0.0</td>\n",
       "      <td>4.0</td>\n",
       "      <td>0.0</td>\n",
       "      <td>0.0</td>\n",
       "      <td>2.231964</td>\n",
       "      <td>0.0</td>\n",
       "      <td>0.0</td>\n",
       "      <td>1.0</td>\n",
       "    </tr>\n",
       "  </tbody>\n",
       "</table>\n",
       "<p>5 rows × 35 columns</p>\n",
       "</div>"
      ],
      "text/plain": [
       "        Sex  Age  Tenure  Count_CA  Count_SA  Count_MF  Count_OVD  Count_CC  \\\n",
       "Client                                                                        \n",
       "1473      1   54      34         1       1.0      79.0        2.0       1.0   \n",
       "36        0   49     263         1       1.0       2.0        2.0       2.0   \n",
       "390       1   50      67         1       1.0      79.0        2.0       2.0   \n",
       "416       0   44      95         1       6.0      79.0        2.0       2.0   \n",
       "883       0   34      67         1       6.0      79.0        2.0       2.0   \n",
       "\n",
       "        Count_CL   ActBal_CA        ...          TransactionsDeb_CA  \\\n",
       "Client                              ...                               \n",
       "1473         1.0   29.024286        ...                        38.0   \n",
       "36           5.0   60.997857        ...                         0.0   \n",
       "390          5.0  442.346071        ...                        38.0   \n",
       "416          5.0  906.526071        ...                        25.0   \n",
       "883          5.0  236.217857        ...                         7.0   \n",
       "\n",
       "        TransactionsDebCash_Card  TransactionsDebCashless_Card  \\\n",
       "Client                                                           \n",
       "1473                         1.0                          26.0   \n",
       "36                           0.0                           0.0   \n",
       "390                          2.0                          29.0   \n",
       "416                          4.0                          21.0   \n",
       "883                          2.0                           0.0   \n",
       "\n",
       "        TransactionsDeb_PaymentOrder  Sale_CC  Sale_CL  Revenue_MF  \\\n",
       "Client                                                               \n",
       "1473                            11.0      0.0      0.0    4.929643   \n",
       "36                               0.0      0.0      0.0    0.238036   \n",
       "390                              6.0      0.0      0.0    1.379821   \n",
       "416                              0.0      0.0      0.0   10.363036   \n",
       "883                              4.0      0.0      0.0    2.231964   \n",
       "\n",
       "        Revenue_CC  Revenue_CL  Predicted_Sale_MF  \n",
       "Client                                             \n",
       "1473           0.0         0.0                1.0  \n",
       "36             0.0         0.0                1.0  \n",
       "390            0.0         0.0                1.0  \n",
       "416            0.0         0.0                1.0  \n",
       "883            0.0         0.0                1.0  \n",
       "\n",
       "[5 rows x 35 columns]"
      ]
     },
     "execution_count": 336,
     "metadata": {},
     "output_type": "execute_result"
    }
   ],
   "source": [
    "#############################################################################################\n",
    "# Adding the credit card sale classified value to last column\n",
    "prediction_features['Predicted_Sale_MF'] = y_pred\n",
    "prediction_classified_features=prediction_features.loc[prediction_features['Predicted_Sale_MF'] == 1]\n",
    "prediction_classified_target = prediction_classified_features['Revenue_MF']\n",
    "prediction_classified_features.head()"
   ]
  },
  {
   "cell_type": "markdown",
   "metadata": {},
   "source": [
    "# Below code describes the regression part of the problem\n",
    "# Provides the calculation of revenue based on consumer loan users"
   ]
  },
  {
   "cell_type": "code",
   "execution_count": 337,
   "metadata": {},
   "outputs": [],
   "source": [
    "#############################################################################################\n",
    "# Implement LabelEncoder class to convert categorical variables to numerical\n",
    "from sklearn.preprocessing import LabelEncoder\n",
    "number=LabelEncoder()\n",
    "result_merged ['Sex']=number.fit_transform(result_merged ['Sex'].astype('str'))"
   ]
  },
  {
   "cell_type": "code",
   "execution_count": 338,
   "metadata": {},
   "outputs": [],
   "source": [
    "#############################################################################################\n",
    "#Removing the irrevelant features from exploratory variables because of multi-collinearity\n",
    "prediction_regression_features = result_merged\n",
    "# Data set for CL customers\n",
    "columns=['Sale_MF', 'Sale_CL','Sale_CC','Revenue_MF','Revenue_CC', 'Revenue_CL']\n",
    "prediction_regression_features=prediction_regression_features.drop(columns, axis=1)\n",
    "\n",
    "columns=['Sale_CL','Sale_CC','Revenue_MF','Revenue_CC','Revenue_CL','Predicted_Sale_MF']\n",
    "prediction_classified_features=prediction_classified_features.drop(columns, axis=1)\n",
    "\n",
    "# Assign explanatroy and target variables\n",
    "# Input and output Features\n",
    "feature_cols = prediction_regression_features\n",
    "target_cols = result_merged['Revenue_MF']  # Revenue_MF column is the target/label\n",
    "X_reg = feature_cols  # feature values for all data points\n",
    "y_reg= target_cols  # corresponding targets/labels"
   ]
  },
  {
   "cell_type": "code",
   "execution_count": 339,
   "metadata": {},
   "outputs": [],
   "source": [
    "#############################################################################################\n",
    "# Handling missing variables\n",
    "from sklearn.preprocessing import Imputer\n",
    "imputer = Imputer(missing_values = 'NaN' , strategy = 'mean', axis = 0)\n",
    "imputer = imputer.fit(X_reg)\n",
    "X_reg= imputer.transform(X_reg)"
   ]
  },
  {
   "cell_type": "code",
   "execution_count": 340,
   "metadata": {},
   "outputs": [],
   "source": [
    "#############################################################################################\n",
    "#Cross validation on the given training data set to split training and test set\n",
    "from sklearn import cross_validation\n",
    "from sklearn.cross_validation import train_test_split\n",
    "X_reg_train,X_reg_test,y_reg_train,y_reg_test = cross_validation.train_test_split(X_reg, y_reg, train_size=600)"
   ]
  },
  {
   "cell_type": "code",
   "execution_count": 341,
   "metadata": {},
   "outputs": [],
   "source": [
    "###############################################################################\n",
    "from sklearn.linear_model import LinearRegression\n",
    "regressor = LinearRegression()"
   ]
  },
  {
   "cell_type": "code",
   "execution_count": 342,
   "metadata": {},
   "outputs": [
    {
     "name": "stdout",
     "output_type": "stream",
     "text": [
      "Successfully fit a model!\n"
     ]
    }
   ],
   "source": [
    "###############################################################################\n",
    "# Fit a model \n",
    "from sklearn.metrics import make_scorer\n",
    "from sklearn import grid_search\n",
    "from sklearn.metrics import mean_squared_error\n",
    "def fit_model(X1, y1):\n",
    "\n",
    "    # Setting up the parameters we wish to tune\n",
    "    parameters = {'fit_intercept':[True,False], 'normalize':[True,False], 'copy_X':[True, False]}\n",
    "\n",
    "    # Making an appropriate scoring function\n",
    "    scoring_function = make_scorer(mean_squared_error,greater_is_better=False)\n",
    "\n",
    "    # Making the GridSearchCV object\n",
    "    reg = grid_search.GridSearchCV(regressor, parameters,scoring=scoring_function)\n",
    "\n",
    "    # Fitting the the learner to the data to obtain the optimal model with tuned parameters\n",
    "    reg.fit(X1, y1)\n",
    "\n",
    "    # Returning the optimal model\n",
    "    return reg\n",
    "\n",
    "try:\n",
    "    regression_Mutual_Fund = fit_model(X_reg_train, y_reg_train)\n",
    "    print (\"Successfully fit a model!\")\n",
    "except:\n",
    "    print (\"Something went wrong with fitting a model.\")"
   ]
  },
  {
   "cell_type": "code",
   "execution_count": 343,
   "metadata": {},
   "outputs": [
    {
     "name": "stdout",
     "output_type": "stream",
     "text": [
      "Lasso(alpha=0.1, copy_X=True, fit_intercept=True, max_iter=1000,\n",
      "   normalize=False, positive=False, precompute=False, random_state=None,\n",
      "   selection='cyclic', tol=0.0001, warm_start=False)\n",
      "r^2 on test data : -0.775760\n"
     ]
    }
   ],
   "source": [
    "# Lasso\n",
    "from sklearn.linear_model import Lasso\n",
    "\n",
    "alpha = 0.1\n",
    "lasso = Lasso(alpha=alpha)\n",
    "\n",
    "y_pred_lasso = lasso.fit(X_reg_train, y_reg_train).predict(X_reg_test)\n",
    "r2_score_lasso = r2_score(y_reg_test, y_pred_lasso)\n",
    "print(lasso)\n",
    "print(\"r^2 on test data : %f\" % r2_score_lasso)"
   ]
  },
  {
   "cell_type": "code",
   "execution_count": 344,
   "metadata": {},
   "outputs": [
    {
     "name": "stdout",
     "output_type": "stream",
     "text": [
      "ElasticNet(alpha=0.1, copy_X=True, fit_intercept=True, l1_ratio=0.7,\n",
      "      max_iter=1000, normalize=False, positive=False, precompute=False,\n",
      "      random_state=None, selection='cyclic', tol=0.0001, warm_start=False)\n",
      "r^2 on test data : -0.776921\n"
     ]
    }
   ],
   "source": [
    "# #############################################################################\n",
    "# ElasticNet\n",
    "from sklearn.linear_model import ElasticNet\n",
    "\n",
    "enet = ElasticNet(alpha=alpha, l1_ratio=0.7)\n",
    "\n",
    "y_pred_enet = enet.fit(X_reg_train, y_reg_train).predict(X_reg_test)\n",
    "r2_score_enet = r2_score(y_reg_test, y_pred_enet)\n",
    "print(enet)\n",
    "print(\"r^2 on test data : %f\" % r2_score_enet)"
   ]
  },
  {
   "cell_type": "code",
   "execution_count": 345,
   "metadata": {},
   "outputs": [
    {
     "data": {
      "image/png": "[encoded data removed]",
      "text/plain": [
       "<matplotlib.figure.Figure at 0xfe78070>"
      ]
     },
     "metadata": {},
     "output_type": "display_data"
    }
   ],
   "source": [
    "plt.plot(enet.coef_, color='lightgreen', linewidth=2,\n",
    "         label='Elastic net coefficients')\n",
    "plt.plot(lasso.coef_, color='gold', linewidth=2,\n",
    "         label='Lasso coefficients')\n",
    "plt.plot(coef, '--', color='navy', label='original coefficients')\n",
    "plt.legend(loc='best')\n",
    "plt.title(\"Lasso R^2: %f, Elastic Net R^2: %f\"\n",
    "          % (r2_score_lasso, r2_score_enet))\n",
    "plt.show()"
   ]
  },
  {
   "cell_type": "code",
   "execution_count": 346,
   "metadata": {},
   "outputs": [
    {
     "name": "stdout",
     "output_type": "stream",
     "text": [
      "Final model optimal parameters: {'copy_X': True, 'fit_intercept': True, 'normalize': False}\n"
     ]
    }
   ],
   "source": [
    "#regression_Mutual_Fund = fit_model(prediction_classified_features, prediction_classified_target)\n",
    "print (\"Final model optimal parameters:\", regression_Mutual_Fund.best_params_)\n",
    "revenues_MF_predicted = regression_Mutual_Fund.predict(prediction_classified_features)\n",
    "prediction_classified_features['Predicted_MF_Revenue'] = revenues_MF_predicted"
   ]
  },
  {
   "cell_type": "code",
   "execution_count": 347,
   "metadata": {},
   "outputs": [
    {
     "data": {
      "image/png": "[encoded data removed]",
      "text/plain": [
       "<matplotlib.figure.Figure at 0x9981550>"
      ]
     },
     "metadata": {},
     "output_type": "display_data"
    }
   ],
   "source": [
    "fig, ax = plt.subplots()\n",
    "ax.scatter(prediction_classified_target, revenues_MF_predicted, edgecolors=(0, 0, 0))\n",
    "ax.plot([prediction_classified_target.min(), prediction_classified_target.max()], [prediction_classified_target.min(), prediction_classified_target.max()], 'k--', lw=4)\n",
    "ax.set_xlabel('Measured')\n",
    "ax.set_ylabel('Predicted')\n",
    "plt.show()"
   ]
  },
  {
   "cell_type": "code",
   "execution_count": 348,
   "metadata": {},
   "outputs": [],
   "source": [
    "prediction_classified_features.to_csv('MF_Customers.csv')"
   ]
  },
  {
   "cell_type": "code",
   "execution_count": 349,
   "metadata": {},
   "outputs": [
    {
     "data": {
      "text/plain": [
       "'C:\\\\Users\\\\DiyaMol\\\\KBC-Group'"
      ]
     },
     "execution_count": 349,
     "metadata": {},
     "output_type": "execute_result"
    }
   ],
   "source": [
    "pwd"
   ]
  },
  {
   "cell_type": "code",
   "execution_count": null,
   "metadata": {},
   "outputs": [],
   "source": []
  }
 ],
 "metadata": {
  "kernelspec": {
   "display_name": "Python 3",
   "language": "python",
   "name": "python3"
  },
  "language_info": {
   "codemirror_mode": {
    "name": "ipython",
    "version": 3
   },
   "file_extension": ".py",
   "mimetype": "text/x-python",
   "name": "python",
   "nbconvert_exporter": "python",
   "pygments_lexer": "ipython3",
   "version": "3.6.3"
  }
 },
 "nbformat": 4,
 "nbformat_minor": 2
}
